{
 "cells": [
  {
   "cell_type": "markdown",
   "metadata": {},
   "source": [
    "## My 1st NN\n",
    "## Digit Recognition using MNIST dataset\n",
    "NN with one hidden sigma layer (50 neurons) and one softmax output layer.\n",
    "I used MomentumOptimizer with 1.0 learning rate.\n",
    "I started with 5.8 % accuracy and now it is almost 97 %. I'm sure I can do better, besides I didn't use convolutional layers and so on. However, my results are still quite good for me to be proud of myself ('cause it's my first time, remember it!)."
   ]
  },
  {
   "cell_type": "code",
   "execution_count": 1,
   "metadata": {
    "collapsed": true
   },
   "outputs": [],
   "source": [
    "import tensorflow as tf\n",
    "gpu_options = tf.GPUOptions(allow_growth=True, per_process_gpu_memory_fraction=0.1)\n",
    "s = tf.InteractiveSession(config=tf.ConfigProto(gpu_options=gpu_options))"
   ]
  },
  {
   "cell_type": "code",
   "execution_count": 91,
   "metadata": {
    "collapsed": true
   },
   "outputs": [],
   "source": [
    "import numpy as np\n",
    "import  matplotlib.pyplot as plt\n",
    "from numpy import random\n",
    "from sklearn.metrics import confusion_matrix"
   ]
  },
  {
   "cell_type": "code",
   "execution_count": 3,
   "metadata": {},
   "outputs": [
    {
     "name": "stdout",
     "output_type": "stream",
     "text": [
      "(50000, 28, 28) (50000,)\n"
     ]
    }
   ],
   "source": [
    "from mnist import load_dataset\n",
    "\n",
    "#[down]loading the original MNIST dataset.\n",
    "#Please note that you should only train your NN on _train sample,\n",
    "# _val can be used to evaluate out-of-sample error, compare models or perform early-stopping\n",
    "# _test should be hidden under a rock untill final evaluation... But we both know it is near impossible to catch you evaluating on it.\n",
    "X_train,y_train,X_val,y_val,X_test,y_test = load_dataset()\n",
    "\n",
    "print (X_train.shape,y_train.shape)"
   ]
  },
  {
   "cell_type": "code",
   "execution_count": 4,
   "metadata": {},
   "outputs": [
    {
     "name": "stdout",
     "output_type": "stream",
     "text": [
      "(50000, 784)\n",
      "(10000, 784)\n",
      "(10000, 784)\n"
     ]
    }
   ],
   "source": [
    "x_train = X_train.reshape(50000, 784)\n",
    "print(x_train.shape)\n",
    "x_test = X_test.reshape(10000, 784)\n",
    "print(x_test.shape)\n",
    "x_val = X_val.reshape(10000, 784)\n",
    "print(x_val.shape)"
   ]
  },
  {
   "cell_type": "code",
   "execution_count": 5,
   "metadata": {},
   "outputs": [
    {
     "name": "stdout",
     "output_type": "stream",
     "text": [
      "3\n"
     ]
    },
    {
     "data": {
      "image/png": "[encoded data removed]",
      "text/plain": [
       "<matplotlib.figure.Figure at 0x1997ad1b2e8>"
      ]
     },
     "metadata": {},
     "output_type": "display_data"
    }
   ],
   "source": [
    "%matplotlib inline\n",
    "a=random.randint(0,9999)\n",
    "plt.imshow(x_val[0,:].reshape(28,28))\n",
    "print(y_val[0])"
   ]
  },
  {
   "cell_type": "raw",
   "metadata": {},
   "source": [
    "Hyperparameters of my model:\n",
    "1) Number of hidden neurons \n",
    "2) Nonlinearity function (loss)\n",
    "3) Optimizer type\n",
    "4) Learning rate\n",
    "5) Regularization?\n",
    "\n",
    "Goal: at least 95 % accuracy"
   ]
  },
  {
   "cell_type": "code",
   "execution_count": 48,
   "metadata": {
    "collapsed": true
   },
   "outputs": [],
   "source": [
    "hidden_size = 50 # Number of neurons in the hidden layer\n",
    "batch_size = 500\n",
    "nClasses = 10\n",
    "nFeatures = 28*28"
   ]
  },
  {
   "cell_type": "code",
   "execution_count": 49,
   "metadata": {
    "collapsed": true
   },
   "outputs": [],
   "source": [
    "# create computation graph\n",
    "W_hidden = tf.Variable(tf.truncated_normal([hidden_size, nFeatures, nClasses], stddev=0.1, dtype='float64'))\n",
    "W_softmax = tf.Variable(tf.truncated_normal([hidden_size], stddev=0.1,dtype='float64'))\n",
    "b_hidden = tf.Variable(tf.truncated_normal([hidden_size, nClasses], stddev=0.1, dtype='float64'))\n",
    "b_softmax = tf.Variable(tf.truncated_normal([nClasses], stddev=0.1, dtype='float64'))\n",
    "\n",
    "input_X = tf.placeholder('float64', shape=[None,nFeatures])\n",
    "input_y = tf.placeholder('float64', shape=[None, nClasses])"
   ]
  },
  {
   "cell_type": "code",
   "execution_count": 50,
   "metadata": {
    "collapsed": true
   },
   "outputs": [],
   "source": [
    "output_hidden = tf.sigmoid(tf.tensordot(input_X, W_hidden, [[-1],[-2]]) + b_hidden)\n",
    "y_pred = tf.nn.softmax(tf.tensordot(W_softmax, output_hidden,[[-1],[-2]]) + b_softmax)"
   ]
  },
  {
   "cell_type": "code",
   "execution_count": 84,
   "metadata": {},
   "outputs": [],
   "source": [
    "# evaluating loss and optimizer\n",
    "loss = tf.reduce_mean(\n",
    "      tf.nn.softmax_cross_entropy_with_logits(labels=input_y, logits=y_pred))\n",
    "optimizer = tf.train.MomentumOptimizer(1.,0.9).minimize(loss, var_list = (W_hidden, W_softmax, b_hidden, b_softmax))"
   ]
  },
  {
   "cell_type": "code",
   "execution_count": 85,
   "metadata": {
    "collapsed": true
   },
   "outputs": [],
   "source": [
    "train_function = lambda x,y: (s.run([optimizer,loss], {input_y: y, input_X: x}))[1]# compile function that takes X and y, returns log loss and updates weights\n",
    "predict_function = lambda x: s.run(y_pred, {input_X: x})# compile function that takes X and computes probabilities of y"
   ]
  },
  {
   "cell_type": "code",
   "execution_count": 53,
   "metadata": {
    "collapsed": true
   },
   "outputs": [],
   "source": [
    "# Yes, I took this function from github.com\n",
    "def dense_to_one_hot(labels_dense, num_classes=10):\n",
    "    \"\"\"Convert class labels from scalars to one-hot vectors\"\"\"\n",
    "    num_labels = labels_dense.shape[0]\n",
    "    index_offset = np.arange(num_labels) * num_classes\n",
    "    labels_one_hot = np.zeros((num_labels, num_classes))\n",
    "    labels_one_hot.flat[index_offset + labels_dense.ravel()] = 1\n",
    "    \n",
    "    return labels_one_hot"
   ]
  },
  {
   "cell_type": "code",
   "execution_count": 54,
   "metadata": {},
   "outputs": [
    {
     "name": "stdout",
     "output_type": "stream",
     "text": [
      "(50000, 10)\n"
     ]
    }
   ],
   "source": [
    "y_true_train = dense_to_one_hot(y_train)\n",
    "y_true_val = dense_to_one_hot(y_val)\n",
    "y_true_test = dense_to_one_hot(y_test)\n",
    "print(y_true_train.shape)"
   ]
  },
  {
   "cell_type": "code",
   "execution_count": 83,
   "metadata": {},
   "outputs": [
    {
     "name": "stdout",
     "output_type": "stream",
     "text": [
      "[ 4932.  5678.  4968.  5101.  4859.  4506.  4951.  5175.  4842.  4988.]\n",
      "[  991.  1064.   990.  1030.   983.   915.   967.  1090.  1009.   961.]\n",
      "[  980.  1135.  1032.  1010.   982.   892.   958.  1028.   974.  1009.]\n"
     ]
    }
   ],
   "source": [
    "print(np.sum(y_true_train, axis=0))\n",
    "print(np.sum(y_true_val, axis=0))\n",
    "print(np.sum(y_true_test, axis=0))"
   ]
  },
  {
   "cell_type": "code",
   "execution_count": 88,
   "metadata": {},
   "outputs": [
    {
     "data": {
      "image/png": "[encoded data removed]",
      "text/plain": [
       "<matplotlib.figure.Figure at 0x1991084d5f8>"
      ]
     },
     "metadata": {},
     "output_type": "display_data"
    },
    {
     "name": "stdout",
     "output_type": "stream",
     "text": [
      "Wall time: 5min 26s\n"
     ]
    }
   ],
   "source": [
    "%%time\n",
    "%matplotlib inline\n",
    "# training  model\n",
    "n = x_train.shape[0] // batch_size\n",
    "# shufle indeces for training on random batches\n",
    "indeces = np.arange(X_train.shape[0]) \n",
    "epochs = 20\n",
    "loss_values = np.array([])\n",
    "loss_val = np.array([])\n",
    "loss_train = np.array([])\n",
    "s.run(tf.global_variables_initializer())\n",
    "for j in range(epochs):\n",
    "    np.random.shuffle(indeces)\n",
    "    for i in range(n):\n",
    "        batch_ind = indeces[i*batch_size : (i+1)*batch_size]\n",
    "        loss_i = train_function(x_train[batch_ind,:], y_true_train[batch_ind,:]) # train model and compute loss at iteration i\n",
    "        loss_values = np.append(loss_values, loss_i)\n",
    "    loss_train = np.append(loss_train, np.mean(loss_values[-20:]))\n",
    "    loss_val = np.append(loss_val, s.run(loss, feed_dict={input_y: y_true_val, input_X : x_val}))\n",
    "\n",
    "# Let's plot train loss and validation loss depending on the number of epochs.\n",
    "# I tried from 1 to 50 epochs and I consider 20 to be enough and optimal\n",
    "train_loss, = plt.plot(np.arange(epochs), loss_train, label='train loss')\n",
    "val_loss, = plt.plot(np.arange(epochs), loss_val, label='validation loss')\n",
    "plt.legend(handles=[train_loss, val_loss])\n",
    "plt.show()                                  \n"
   ]
  },
  {
   "cell_type": "code",
   "execution_count": 89,
   "metadata": {},
   "outputs": [
    {
     "name": "stdout",
     "output_type": "stream",
     "text": [
      "0.9703\n"
     ]
    },
    {
     "data": {
      "text/plain": [
       "[<matplotlib.lines.Line2D at 0x19911308da0>]"
      ]
     },
     "execution_count": 89,
     "metadata": {},
     "output_type": "execute_result"
    },
    {
     "data": {
      "image/png": "[encoded data removed]",
      "text/plain": [
       "<matplotlib.figure.Figure at 0x1990f0e8470>"
      ]
     },
     "metadata": {},
     "output_type": "display_data"
    }
   ],
   "source": [
    "# validation\n",
    "accuracy = tf.reduce_mean(tf.cast(tf.equal(tf.argmax(y_pred, axis=1), tf.argmax(input_y, axis=1)), dtype='float32'))\n",
    "print(s.run(accuracy, feed_dict={input_y : y_true_val, input_X : x_val}))\n",
    "%matplotlib inline\n",
    "steps = np.arange(epochs*n)\n",
    "#plt.xlim()\n",
    "plt.plot(steps, loss_values)"
   ]
  },
  {
   "cell_type": "code",
   "execution_count": 115,
   "metadata": {},
   "outputs": [
    {
     "name": "stdout",
     "output_type": "stream",
     "text": [
      "0.9684\n"
     ]
    }
   ],
   "source": [
    "# predict & evaluate on test\n",
    "y_pred_test = s.run(tf.argmax(y_pred,axis=1), feed_dict={input_y: y_true_test, input_X : x_test})\n",
    "accuracy = tf.reduce_mean(tf.cast(tf.equal(tf.argmax(y_pred, axis=1), tf.argmax(input_y, axis=1)), dtype='float32'))\n",
    "print(s.run(accuracy, feed_dict={input_y : y_true_test, input_X : x_test}))\n"
   ]
  },
  {
   "cell_type": "code",
   "execution_count": 146,
   "metadata": {},
   "outputs": [
    {
     "data": {
      "image/png": "[encoded data removed]",
      "text/plain": [
       "<matplotlib.figure.Figure at 0x19914ed8be0>"
      ]
     },
     "metadata": {},
     "output_type": "display_data"
    },
    {
     "data": {
      "image/png": "[encoded data removed]",
      "text/plain": [
       "<matplotlib.figure.Figure at 0x1990fc40278>"
      ]
     },
     "metadata": {},
     "output_type": "display_data"
    }
   ],
   "source": [
    "# confusion matrix \n",
    "%matplotlib inline\n",
    "cm = confusion_matrix(y_test, y_pred_test)\n",
    "cm_norm = cm.astype('float')/cm.sum(axis=1)[:,np.newaxis]\n",
    "plt.imshow(cm_norm)\n",
    "plt.colorbar()\n",
    "plt.show()\n",
    "# To see more details let's subtract the unit matrix\n",
    "E = np.eye(10)\n",
    "plt.imshow(cm_norm - E)\n",
    "plt.colorbar()\n",
    "plt.show()"
   ]
  },
  {
   "cell_type": "code",
   "execution_count": 141,
   "metadata": {},
   "outputs": [
    {
     "name": "stdout",
     "output_type": "stream",
     "text": [
      "Recognized: 2\n"
     ]
    },
    {
     "data": {
      "text/plain": [
       "<matplotlib.image.AxesImage at 0x19914dd6128>"
      ]
     },
     "execution_count": 141,
     "metadata": {},
     "output_type": "execute_result"
    },
    {
     "data": {
      "image/png": "[encoded data removed]",
      "text/plain": [
       "<matplotlib.figure.Figure at 0x19913db0f60>"
      ]
     },
     "metadata": {},
     "output_type": "display_data"
    }
   ],
   "source": [
    "a = np.random.randint(9999)\n",
    "print(\"Recognized:\",y_pred_test[a])\n",
    "plt.imshow(X_test[a])"
   ]
  },
  {
   "cell_type": "code",
   "execution_count": null,
   "metadata": {
    "collapsed": true
   },
   "outputs": [],
   "source": [
    "# How to change values of variables by indeces\n",
    "#shape = [1,2,3]\n",
    "#indices = [[1, 1, 2], [2,1,2]]\n",
    "#values = [1.0,2.0]\n",
    "#delta = tf.SparseTensor(indices, values, shape)\n",
    "#t = t + tf.sparse_tensor_to_dense(delta)"
   ]
  }
 ],
 "metadata": {
  "kernelspec": {
   "display_name": "Python 3",
   "language": "python",
   "name": "python3"
  },
  "language_info": {
   "codemirror_mode": {
    "name": "ipython",
    "version": 3
   },
   "file_extension": ".py",
   "mimetype": "text/x-python",
   "name": "python",
   "nbconvert_exporter": "python",
   "pygments_lexer": "ipython3",
   "version": "3.6.2"
  }
 },
 "nbformat": 4,
 "nbformat_minor": 2
}
